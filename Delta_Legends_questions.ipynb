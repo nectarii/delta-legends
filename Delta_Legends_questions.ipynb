{
  "nbformat": 4,
  "nbformat_minor": 0,
  "metadata": {
    "colab": {
      "provenance": [],
      "authorship_tag": "ABX9TyPb70ZMbqyiSolLpNHxAc6Y",
      "include_colab_link": true
    },
    "kernelspec": {
      "name": "python3",
      "display_name": "Python 3"
    },
    "language_info": {
      "name": "python"
    }
  },
  "cells": [
    {
      "cell_type": "markdown",
      "metadata": {
        "id": "view-in-github",
        "colab_type": "text"
      },
      "source": [
        "<a href=\"https://colab.research.google.com/github/nectarii/delta-legends/blob/main/Delta_Legends_questions.ipynb\" target=\"_parent\"><img src=\"https://colab.research.google.com/assets/colab-badge.svg\" alt=\"Open In Colab\"/></a>"
      ]
    },
    {
      "cell_type": "code",
      "execution_count": null,
      "metadata": {
        "id": "6WQbHxzYyjoZ"
      },
      "outputs": [],
      "source": [
        "import random\n",
        "question = ['Derivative of a (constant)','Derivative of ax','Derivative of x^a',\n",
        "            'Derivative of kx^a','Derivative of e^x','Derivative of a^x']\n",
        "answers = ['0','a','ax^(a-1)','akx^(a-1)','e^x','ln(a)*a^x']\n",
        "lose=False\n",
        "score=0\n",
        "\n",
        "def ask_question():\n",
        "  questionNumber = random.randint(0,len(question)-1)\n",
        "  print(\"---------------\")\n",
        "  print(question[questionNumber])\n",
        "  print()\n",
        "  dontChoose = [questionNumber]\n",
        "  correct = answers[questionNumber]\n",
        "  answers.remove(correct)\n",
        "  answerNumber = random.randrange(4)\n",
        "  for i in range(answerNumber):\n",
        "    wrongAnswer = 0\n",
        "    while  wrongAnswer in dontChoose:\n",
        "      wrongAnswer=random.randrange(len(question)-1)\n",
        "    print(str(i+1)+\". \"+answers[wrongAnswer])\n",
        "    dontChoose.append(wrongAnswer)\n",
        "  print(str(answerNumber+1)+\". \"+correct)\n",
        "  for i in range(3-answerNumber):\n",
        "    wrongAnswer = 0\n",
        "    while  wrongAnswer in dontChoose:\n",
        "      wrongAnswer=random.randrange(len(question)-1)\n",
        "    print(str(i+answerNumber+2)+\". \"+answers[wrongAnswer])\n",
        "    dontChoose.append(wrongAnswer)\n",
        "  answers.insert(questionNumber,correct)\n",
        "  right=answerNumber+1\n",
        "  if int(input(\"Answer number:\")) == right :\n",
        "    print(\"correct\")\n",
        "  else:\n",
        "    lose=True\n",
        "    print(\"wrong. Your score is \"+ str(score))\n",
        "\n",
        "while lose !=True:\n",
        "  ask_question()\n",
        "  score=score+1\n"
      ]
    }
  ]
}